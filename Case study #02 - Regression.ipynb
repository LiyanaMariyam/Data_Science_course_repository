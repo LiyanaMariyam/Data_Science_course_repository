{
 "cells": [
  {
   "cell_type": "code",
   "execution_count": 1,
   "id": "eeca2308",
   "metadata": {},
   "outputs": [],
   "source": [
    "import numpy as np\n",
    "import pandas as pd\n",
    "import seaborn as sns\n",
    "import matplotlib.pyplot as plt"
   ]
  },
  {
   "cell_type": "markdown",
   "id": "fc968aa9",
   "metadata": {},
   "source": [
    "#### Importing Data:"
   ]
  },
  {
   "cell_type": "code",
   "execution_count": 2,
   "id": "5e83a150",
   "metadata": {},
   "outputs": [],
   "source": [
    "data = pd.read_csv('car_age_price.csv')"
   ]
  },
  {
   "cell_type": "markdown",
   "id": "998a2630",
   "metadata": {},
   "source": [
    "#### Checking Basic Details:"
   ]
  },
  {
   "cell_type": "code",
   "execution_count": 3,
   "id": "aa4d8db7",
   "metadata": {
    "scrolled": true
   },
   "outputs": [
    {
     "data": {
      "text/html": [
       "<div>\n",
       "<style scoped>\n",
       "    .dataframe tbody tr th:only-of-type {\n",
       "        vertical-align: middle;\n",
       "    }\n",
       "\n",
       "    .dataframe tbody tr th {\n",
       "        vertical-align: top;\n",
       "    }\n",
       "\n",
       "    .dataframe thead th {\n",
       "        text-align: right;\n",
       "    }\n",
       "</style>\n",
       "<table border=\"1\" class=\"dataframe\">\n",
       "  <thead>\n",
       "    <tr style=\"text-align: right;\">\n",
       "      <th></th>\n",
       "      <th>Year</th>\n",
       "      <th>Price</th>\n",
       "    </tr>\n",
       "  </thead>\n",
       "  <tbody>\n",
       "    <tr>\n",
       "      <th>0</th>\n",
       "      <td>2018</td>\n",
       "      <td>465000</td>\n",
       "    </tr>\n",
       "    <tr>\n",
       "      <th>1</th>\n",
       "      <td>2019</td>\n",
       "      <td>755000</td>\n",
       "    </tr>\n",
       "    <tr>\n",
       "      <th>2</th>\n",
       "      <td>2019</td>\n",
       "      <td>700000</td>\n",
       "    </tr>\n",
       "    <tr>\n",
       "      <th>3</th>\n",
       "      <td>2018</td>\n",
       "      <td>465000</td>\n",
       "    </tr>\n",
       "    <tr>\n",
       "      <th>4</th>\n",
       "      <td>2018</td>\n",
       "      <td>465000</td>\n",
       "    </tr>\n",
       "  </tbody>\n",
       "</table>\n",
       "</div>"
      ],
      "text/plain": [
       "   Year   Price\n",
       "0  2018  465000\n",
       "1  2019  755000\n",
       "2  2019  700000\n",
       "3  2018  465000\n",
       "4  2018  465000"
      ]
     },
     "execution_count": 3,
     "metadata": {},
     "output_type": "execute_result"
    }
   ],
   "source": [
    "data.head()"
   ]
  },
  {
   "cell_type": "code",
   "execution_count": 4,
   "id": "e6d7f26c",
   "metadata": {},
   "outputs": [
    {
     "data": {
      "text/plain": [
       "Year     0\n",
       "Price    0\n",
       "dtype: int64"
      ]
     },
     "execution_count": 4,
     "metadata": {},
     "output_type": "execute_result"
    }
   ],
   "source": [
    "data.isna().sum()"
   ]
  },
  {
   "cell_type": "markdown",
   "id": "cb320d3c",
   "metadata": {},
   "source": [
    "#### Label Encoding:"
   ]
  },
  {
   "cell_type": "code",
   "execution_count": 5,
   "id": "a8c1ccd2",
   "metadata": {},
   "outputs": [],
   "source": [
    "from sklearn.preprocessing import LabelEncoder"
   ]
  },
  {
   "cell_type": "code",
   "execution_count": 6,
   "id": "90676755",
   "metadata": {},
   "outputs": [],
   "source": [
    "le = LabelEncoder()"
   ]
  },
  {
   "cell_type": "code",
   "execution_count": 7,
   "id": "02d8241c",
   "metadata": {},
   "outputs": [],
   "source": [
    "data['Year'] = le.fit_transform(data['Year'])"
   ]
  },
  {
   "cell_type": "code",
   "execution_count": 8,
   "id": "7144739c",
   "metadata": {},
   "outputs": [
    {
     "data": {
      "text/html": [
       "<div>\n",
       "<style scoped>\n",
       "    .dataframe tbody tr th:only-of-type {\n",
       "        vertical-align: middle;\n",
       "    }\n",
       "\n",
       "    .dataframe tbody tr th {\n",
       "        vertical-align: top;\n",
       "    }\n",
       "\n",
       "    .dataframe thead th {\n",
       "        text-align: right;\n",
       "    }\n",
       "</style>\n",
       "<table border=\"1\" class=\"dataframe\">\n",
       "  <thead>\n",
       "    <tr style=\"text-align: right;\">\n",
       "      <th></th>\n",
       "      <th>Year</th>\n",
       "      <th>Price</th>\n",
       "    </tr>\n",
       "  </thead>\n",
       "  <tbody>\n",
       "    <tr>\n",
       "      <th>0</th>\n",
       "      <td>5</td>\n",
       "      <td>465000</td>\n",
       "    </tr>\n",
       "    <tr>\n",
       "      <th>1</th>\n",
       "      <td>6</td>\n",
       "      <td>755000</td>\n",
       "    </tr>\n",
       "    <tr>\n",
       "      <th>2</th>\n",
       "      <td>6</td>\n",
       "      <td>700000</td>\n",
       "    </tr>\n",
       "    <tr>\n",
       "      <th>3</th>\n",
       "      <td>5</td>\n",
       "      <td>465000</td>\n",
       "    </tr>\n",
       "    <tr>\n",
       "      <th>4</th>\n",
       "      <td>5</td>\n",
       "      <td>465000</td>\n",
       "    </tr>\n",
       "  </tbody>\n",
       "</table>\n",
       "</div>"
      ],
      "text/plain": [
       "   Year   Price\n",
       "0     5  465000\n",
       "1     6  755000\n",
       "2     6  700000\n",
       "3     5  465000\n",
       "4     5  465000"
      ]
     },
     "execution_count": 8,
     "metadata": {},
     "output_type": "execute_result"
    }
   ],
   "source": [
    "data.head()"
   ]
  },
  {
   "cell_type": "markdown",
   "id": "102b145e",
   "metadata": {},
   "source": [
    "#### Checking Correlation:"
   ]
  },
  {
   "cell_type": "code",
   "execution_count": 9,
   "id": "4186ed77",
   "metadata": {},
   "outputs": [
    {
     "data": {
      "text/html": [
       "<div>\n",
       "<style scoped>\n",
       "    .dataframe tbody tr th:only-of-type {\n",
       "        vertical-align: middle;\n",
       "    }\n",
       "\n",
       "    .dataframe tbody tr th {\n",
       "        vertical-align: top;\n",
       "    }\n",
       "\n",
       "    .dataframe thead th {\n",
       "        text-align: right;\n",
       "    }\n",
       "</style>\n",
       "<table border=\"1\" class=\"dataframe\">\n",
       "  <thead>\n",
       "    <tr style=\"text-align: right;\">\n",
       "      <th></th>\n",
       "      <th>Year</th>\n",
       "      <th>Price</th>\n",
       "    </tr>\n",
       "  </thead>\n",
       "  <tbody>\n",
       "    <tr>\n",
       "      <th>Year</th>\n",
       "      <td>1.000000</td>\n",
       "      <td>0.776302</td>\n",
       "    </tr>\n",
       "    <tr>\n",
       "      <th>Price</th>\n",
       "      <td>0.776302</td>\n",
       "      <td>1.000000</td>\n",
       "    </tr>\n",
       "  </tbody>\n",
       "</table>\n",
       "</div>"
      ],
      "text/plain": [
       "           Year     Price\n",
       "Year   1.000000  0.776302\n",
       "Price  0.776302  1.000000"
      ]
     },
     "execution_count": 9,
     "metadata": {},
     "output_type": "execute_result"
    }
   ],
   "source": [
    "data.corr()"
   ]
  },
  {
   "cell_type": "markdown",
   "id": "3ce21ea2",
   "metadata": {},
   "source": [
    "#### Creating Train and Test data:"
   ]
  },
  {
   "cell_type": "code",
   "execution_count": 10,
   "id": "1afdd4bf",
   "metadata": {},
   "outputs": [],
   "source": [
    "y =data.drop(['Year'], axis =1)\n",
    "X =data.drop(['Price'], axis =1)"
   ]
  },
  {
   "cell_type": "code",
   "execution_count": 11,
   "id": "b30f2716",
   "metadata": {},
   "outputs": [],
   "source": [
    "from sklearn.model_selection import train_test_split"
   ]
  },
  {
   "cell_type": "code",
   "execution_count": 12,
   "id": "01811d06",
   "metadata": {},
   "outputs": [],
   "source": [
    "X_train, X_test, y_train, y_test = train_test_split(X,y,test_size=0.25,random_state=42)"
   ]
  },
  {
   "cell_type": "markdown",
   "id": "7916ed57",
   "metadata": {},
   "source": [
    "#### Creating Linear Regression Model:"
   ]
  },
  {
   "cell_type": "code",
   "execution_count": 13,
   "id": "f6259bf7",
   "metadata": {},
   "outputs": [],
   "source": [
    "from sklearn.linear_model import LinearRegression"
   ]
  },
  {
   "cell_type": "code",
   "execution_count": 14,
   "id": "9c91cca2",
   "metadata": {},
   "outputs": [],
   "source": [
    "lr = LinearRegression()"
   ]
  },
  {
   "cell_type": "code",
   "execution_count": 15,
   "id": "6778d209",
   "metadata": {},
   "outputs": [],
   "source": [
    "model1 = lr.fit(X_train , y_train)"
   ]
  },
  {
   "cell_type": "code",
   "execution_count": 16,
   "id": "d619be06",
   "metadata": {},
   "outputs": [],
   "source": [
    "y_pred1 = model1.predict(X_test)"
   ]
  },
  {
   "cell_type": "markdown",
   "id": "2bb8c49d",
   "metadata": {},
   "source": [
    "#### Checking MSE and R Squared Value:"
   ]
  },
  {
   "cell_type": "code",
   "execution_count": 17,
   "id": "59026e4e",
   "metadata": {},
   "outputs": [],
   "source": [
    "from sklearn.metrics import mean_squared_error, r2_score"
   ]
  },
  {
   "cell_type": "code",
   "execution_count": 18,
   "id": "198150c3",
   "metadata": {},
   "outputs": [
    {
     "name": "stdout",
     "output_type": "stream",
     "text": [
      "MSE is: 3878767151.0726166\n",
      "R Squared value is: 0.4347961632109236\n"
     ]
    }
   ],
   "source": [
    "print('MSE is:',mean_squared_error(y_test, y_pred1))\n",
    "print('R Squared value is:',r2_score(y_test, y_pred1))"
   ]
  },
  {
   "cell_type": "markdown",
   "id": "fe7b4a09",
   "metadata": {},
   "source": [
    "#### Creating Lasso Regression model:"
   ]
  },
  {
   "cell_type": "code",
   "execution_count": 19,
   "id": "92c4bbe3",
   "metadata": {},
   "outputs": [],
   "source": [
    "from sklearn.linear_model import Lasso"
   ]
  },
  {
   "cell_type": "code",
   "execution_count": 20,
   "id": "d4b71bf4",
   "metadata": {},
   "outputs": [],
   "source": [
    "las_reg = Lasso(alpha=1)\n",
    "model2 = las_reg.fit(X_train, y_train)"
   ]
  },
  {
   "cell_type": "code",
   "execution_count": 21,
   "id": "d47d9272",
   "metadata": {},
   "outputs": [],
   "source": [
    "y_pred2 = model2.predict(X_test)"
   ]
  },
  {
   "cell_type": "markdown",
   "id": "98af9626",
   "metadata": {},
   "source": [
    "#### Checking MSE and R squared Value:"
   ]
  },
  {
   "cell_type": "code",
   "execution_count": 22,
   "id": "16cea271",
   "metadata": {},
   "outputs": [
    {
     "name": "stdout",
     "output_type": "stream",
     "text": [
      "MSE is: 3878735896.22223\n",
      "R Squared value is: 0.4348007175862364\n"
     ]
    }
   ],
   "source": [
    "print('MSE is:',mean_squared_error(y_test, y_pred2))\n",
    "print('R Squared value is:',r2_score(y_test, y_pred2))"
   ]
  },
  {
   "cell_type": "markdown",
   "id": "40e06c25",
   "metadata": {},
   "source": [
    "It is inferred that since R squared value of lasso regression is slightly higher, lasso regression is performing slightly better than linear regression in this dataset"
   ]
  },
  {
   "cell_type": "markdown",
   "id": "8f612a54",
   "metadata": {},
   "source": [
    "#### Predicting Price of Car in 2022"
   ]
  },
  {
   "cell_type": "code",
   "execution_count": 23,
   "id": "b351796c",
   "metadata": {},
   "outputs": [],
   "source": [
    "X1 =[9]\n",
    "X1= pd.DataFrame(X1)"
   ]
  },
  {
   "cell_type": "code",
   "execution_count": 24,
   "id": "23aac26b",
   "metadata": {},
   "outputs": [
    {
     "name": "stderr",
     "output_type": "stream",
     "text": [
      "C:\\Users\\USER\\anaconda3\\lib\\site-packages\\sklearn\\base.py:450: UserWarning: X does not have valid feature names, but LinearRegression was fitted with feature names\n",
      "  warnings.warn(\n",
      "C:\\Users\\USER\\anaconda3\\lib\\site-packages\\sklearn\\base.py:450: UserWarning: X does not have valid feature names, but Lasso was fitted with feature names\n",
      "  warnings.warn(\n"
     ]
    }
   ],
   "source": [
    "y_pred_2022_linear = model1.predict(X1)\n",
    "y_pred_2022_lasso = model2.predict(X1)\n"
   ]
  },
  {
   "cell_type": "code",
   "execution_count": 25,
   "id": "93d84b95",
   "metadata": {},
   "outputs": [
    {
     "name": "stdout",
     "output_type": "stream",
     "text": [
      "possible price of a 2022 model car predicted using linear regression: [[740160.11937765]]\n",
      "possible price of a 2022 model car predicted using lasso regression: [740157.95700141]\n"
     ]
    }
   ],
   "source": [
    "print('possible price of a 2022 model car predicted using linear regression:',y_pred_2022_linear)\n",
    "print('possible price of a 2022 model car predicted using lasso regression:',y_pred_2022_lasso)"
   ]
  },
  {
   "cell_type": "code",
   "execution_count": null,
   "id": "f6ece689",
   "metadata": {},
   "outputs": [],
   "source": []
  }
 ],
 "metadata": {
  "kernelspec": {
   "display_name": "Python 3 (ipykernel)",
   "language": "python",
   "name": "python3"
  },
  "language_info": {
   "codemirror_mode": {
    "name": "ipython",
    "version": 3
   },
   "file_extension": ".py",
   "mimetype": "text/x-python",
   "name": "python",
   "nbconvert_exporter": "python",
   "pygments_lexer": "ipython3",
   "version": "3.9.13"
  }
 },
 "nbformat": 4,
 "nbformat_minor": 5
}
