{
 "cells": [
  {
   "cell_type": "code",
   "execution_count": 1,
   "id": "e0451d2f",
   "metadata": {},
   "outputs": [],
   "source": [
    "import numpy as np\n",
    "import pandas as pd\n",
    "import matplotlib.pyplot as plt\n",
    "import seaborn as sns\n",
    "import statistics as stat"
   ]
  },
  {
   "cell_type": "code",
   "execution_count": 4,
   "id": "b945ee89",
   "metadata": {},
   "outputs": [],
   "source": [
    "data = pd.read_csv('Sales_add.csv')"
   ]
  },
  {
   "cell_type": "code",
   "execution_count": 20,
   "id": "87d1dce2",
   "metadata": {},
   "outputs": [
    {
     "name": "stdout",
     "output_type": "stream",
     "text": [
      "<class 'pandas.core.frame.DataFrame'>\n",
      "RangeIndex: 22 entries, 0 to 21\n",
      "Data columns (total 5 columns):\n",
      " #   Column                          Non-Null Count  Dtype \n",
      "---  ------                          --------------  ----- \n",
      " 0   Month                           22 non-null     object\n",
      " 1   Region                          22 non-null     object\n",
      " 2   Manager                         22 non-null     object\n",
      " 3   Sales_before_digital_add(in $)  22 non-null     int64 \n",
      " 4   Sales_After_digital_add(in $)   22 non-null     int64 \n",
      "dtypes: int64(2), object(3)\n",
      "memory usage: 1008.0+ bytes\n"
     ]
    }
   ],
   "source": [
    "data.info()"
   ]
  },
  {
   "cell_type": "code",
   "execution_count": 38,
   "id": "89b35787",
   "metadata": {},
   "outputs": [
    {
     "data": {
      "text/plain": [
       "Month                             0\n",
       "Region                            0\n",
       "Manager                           0\n",
       "Sales_before_digital_add(in $)    0\n",
       "Sales_After_digital_add(in $)     0\n",
       "dtype: int64"
      ]
     },
     "execution_count": 38,
     "metadata": {},
     "output_type": "execute_result"
    }
   ],
   "source": [
    "data.isna().sum()"
   ]
  },
  {
   "cell_type": "markdown",
   "id": "fda28be0",
   "metadata": {},
   "source": [
    "## 1. Checking whether there is any increase in sales after stepping into digital marketing"
   ]
  },
  {
   "cell_type": "markdown",
   "id": "9699904b",
   "metadata": {},
   "source": [
    "#### Performing T-test\n",
    "Null Hypothesis: Sales has no change after stepping into digital marketing     \n",
    "Alternate Hypothesis: Sales has increased after stepping into digital marketing   \n",
    "Testing with 95% confidence level"
   ]
  },
  {
   "cell_type": "code",
   "execution_count": 8,
   "id": "5a6afc5b",
   "metadata": {},
   "outputs": [],
   "source": [
    "from scipy.stats import ttest_ind"
   ]
  },
  {
   "cell_type": "code",
   "execution_count": 56,
   "id": "c61f9af7",
   "metadata": {},
   "outputs": [],
   "source": [
    "t_stat,p_val=ttest_ind(data['Sales_before_digital_add(in $)'],data['Sales_After_digital_add(in $)'])"
   ]
  },
  {
   "cell_type": "code",
   "execution_count": 57,
   "id": "001d1c06",
   "metadata": {},
   "outputs": [
    {
     "name": "stdout",
     "output_type": "stream",
     "text": [
      "Null Hypothesis Rejected\n"
     ]
    }
   ],
   "source": [
    "if p_val<= 0.05:\n",
    "    print('Null Hypothesis Rejected')\n",
    "else:\n",
    "    print('Failed to reject the Null Hypothesis')"
   ]
  },
  {
   "cell_type": "markdown",
   "id": "5d5fce95",
   "metadata": {},
   "source": [
    "#### Therefore, we can conclude that Sales has significantly increased after stepping into digital marketing"
   ]
  },
  {
   "cell_type": "markdown",
   "id": "5146c101",
   "metadata": {},
   "source": [
    "## 2. Checking whether there is any dependency between the features “Region” and “Manager”."
   ]
  },
  {
   "cell_type": "markdown",
   "id": "8e095f83",
   "metadata": {},
   "source": [
    "#### Performing Chi-Square Test\n",
    "Null Hypothesis: There is no dependency between the features 'Region' and 'Manager'    \n",
    "Alternate Hypothesis:  The features 'Region' and 'Manager' are dependent to each other  \n",
    "Testing with 95% confidence level"
   ]
  },
  {
   "cell_type": "code",
   "execution_count": 47,
   "id": "7c3a4d88",
   "metadata": {},
   "outputs": [],
   "source": [
    "from scipy.stats import chi2_contingency"
   ]
  },
  {
   "cell_type": "code",
   "execution_count": 59,
   "id": "0d4ce5a6",
   "metadata": {},
   "outputs": [],
   "source": [
    "Samp_data = pd.crosstab(data.Region,data.Manager,margins=False)"
   ]
  },
  {
   "cell_type": "code",
   "execution_count": 61,
   "id": "7e1cd38e",
   "metadata": {},
   "outputs": [],
   "source": [
    "c,p,dof,expected=chi2_contingency(Samp_data)"
   ]
  },
  {
   "cell_type": "code",
   "execution_count": 63,
   "id": "03f528b9",
   "metadata": {},
   "outputs": [
    {
     "name": "stdout",
     "output_type": "stream",
     "text": [
      "Failed to reject the Null Hypothesis\n"
     ]
    }
   ],
   "source": [
    "if p<= 0.05:\n",
    "    print('Null Hypothesis Rejected')\n",
    "else:\n",
    "    print('Failed to reject the Null Hypothesis')"
   ]
  },
  {
   "cell_type": "markdown",
   "id": "5d617f0a",
   "metadata": {},
   "source": [
    "#### Therefore, we can conclude that There is no dependency between the features 'Region' and 'Manager'"
   ]
  }
 ],
 "metadata": {
  "kernelspec": {
   "display_name": "Python 3 (ipykernel)",
   "language": "python",
   "name": "python3"
  },
  "language_info": {
   "codemirror_mode": {
    "name": "ipython",
    "version": 3
   },
   "file_extension": ".py",
   "mimetype": "text/x-python",
   "name": "python",
   "nbconvert_exporter": "python",
   "pygments_lexer": "ipython3",
   "version": "3.9.13"
  }
 },
 "nbformat": 4,
 "nbformat_minor": 5
}
